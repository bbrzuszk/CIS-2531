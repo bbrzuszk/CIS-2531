{
 "cells": [
  {
   "cell_type": "markdown",
   "metadata": {},
   "source": [
    "<h1>Python - Variables & Primitive Data Types</h1>\n",
    "<hr style=\"height:2px;border:none;color:#333;background-color:#333;\" />\n",
    "<p>This lesson covers the following topics:\n",
    "<ul>\n",
    "    <li><a href=\"#variables\">Variables - Declaration & Assignment</a></li>\n",
    "    <li><a href=\"#naming\">Variable Naming Conventions</a></li>\n",
    "    <li><a href=\"#primitives\">Primitive Data Types</a></li>\n",
    "        <ul>\n",
    "            <li><a href=\"#integers\">Integer</a></li>\n",
    "            <li><a href=\"#floats\">Float</a></li>\n",
    "            <li><a href=\"#booleans\">Boolean</a></li>\n",
    "            <li><a href=\"#characters\">Character</a></li>\n",
    "            <li><a href=\"#strings\">String</a></li>\n",
    "        </ul>\n",
    "</ul>\n",
    "</p>"
   ]
  },
  {
   "cell_type": "markdown",
   "metadata": {},
   "source": [
    "<hr>\n",
    "<a id=\"variables\"></a>\n",
    "<h3>Variables - Declaration & Assignment</h3>\n",
    "<p style=\"text-align:justify;\">\n",
    "    <u>In a programming language <a href=\"https://www.w3schools.com/python/python_variables.asp\">variables</a> are containers for storing data values</u>. This is different than variables in Mathematics because the variables in programming have multiple \"data type\" associated with them, whereas in Mathematics they typically only represent numbers. For example, in Computer Science a variable with an \"integer\" data type can only store integer numbers, a \"boolean\" data type can only store True or False, a \"float\" data type can only store decimal numbers, a \"String\" data type can only store strings (text), et cetera.\n",
    "</p>\n",
    "\n",
    "<p>While programming, using a variable is broken down into two parts, the <u>declaration</u> and <u>assignment</u>:\n",
    "    <ol>\n",
    "        <li style=\"text-align:justify;\"><b>Declaration</b> - <u>When we declare a variable, we are specifying its <i>name</i> and <i>data type</i></u>. It is important for a program to know the data type of the variable you're declaring because different data types take up different amounts of space in the computer's memory (i.e. it takes more memory to store a float than an integer). For example, if you declared an integer variable with the name \"x\" in your program, behind the scenes the Python interpreter looks for an open memory address in RAM (Random Access Memory) that is big enough to store an integer. Then it reserves that memory address for that variable. After that, every time you use the variable \"x\" in your program, it's going to go to that memory address and retrieve whatever value is stored in that memory location.</li><br/>\n",
    "        <li style=\"text-align:justify;\"><b>Assignment</b> - <u>When we assign a value to a variable, we are literally saving a <i>value</i> to the memory address associated with that variable.</u> Once a variable is declared, you can overwrite (or \"assign\") a new value to it as many times as you like. Every time you do this, the computer is simply going to that variable's location in memory and overwriting the value. The operator for assigning a value to a variable is the equal (=) sign.<br/><br/><i>(It is important to note that when you reassign the value of a variable, there is no way to retrieve the original value.)</i></li>\n",
    "    </ol>\n",
    "</p>\n",
    "\n",
    "<p style=\"text-align:justify; color:#777; margin:30px; padding:20px; background-color: #f0f0f0; border-style: dotted;\">\n",
    "    <i><u>Statically</u> vs. <u>Dynamically</u> Typed Programming Languages:<br/>\n",
    "        A programming language is either statically or dynamically typed. Statically typed programming languages are those in which a variable's data type must explicitly be declared before it is used. Examples of statically typed programming languages are C, C++, Java, etc. Dynamically typed programming languages are those in which a variable's data type is not explicitly declared before it is used. During runtime, the interpreter determines at the time of execution what the variable's data type is. Python is an example of a dynamically typed programming language.<br/><br/>\n",
    "        Static Programming Language Example:<br/>\n",
    "        int x;<br/>\n",
    "        x = 2;<br/>\n",
    "        <br/>\n",
    "        Dynamic Programming Language Example:<br/>\n",
    "        x = 2</i>\n",
    "</p>\n",
    "\n",
    "<a id=\"naming\"></a>\n",
    "<h3>Variable Naming Conventions</h3>\n",
    "\n",
    "<p>Variable naming conventions in Python are as follows:<br/>\n",
    "    <ul>\n",
    "        <li>A variable name must start with a letter or the underscore character</li>\n",
    "        <li>A variable name cannot start with a number</li>\n",
    "        <li>A variable name can only contain alpha-numeric characters and underscores (A-z, 0-9, and _ )</li>\n",
    "        <li>Variable names are case-sensitive (age, Age and AGE are three different variables)</li>\n",
    "    </ul>\n",
    "As a rule, you should always try to use short, but descriptive names for your variables.\n",
    "</p>"
   ]
  },
  {
   "cell_type": "code",
   "execution_count": 1,
   "metadata": {},
   "outputs": [
    {
     "name": "stdout",
     "output_type": "stream",
     "text": [
      "The distance between (0,0) and (10,0) is 10.0 units.\n"
     ]
    }
   ],
   "source": [
    "# These are examples of variable declaration and assignments in Python.\n",
    "# -------------------------------------------------------------------------\n",
    "# Keep in mind that the declaration and assignment are two separate events,\n",
    "# but since Python is a dynamically typed programming language, the\n",
    "# declaration occurs during runtime and is not explicitly stated in code.\n",
    "\n",
    "x1 = 0\n",
    "y1 = 0\n",
    "x2 = 10\n",
    "y2 = 0\n",
    "\n",
    "distance = ((x2 - x1)**2 + (y2 - y1)**2)**(1/2)\n",
    "\n",
    "print(f\"The distance between ({x1},{y1}) and ({x2},{y2}) is {distance} units.\")"
   ]
  },
  {
   "cell_type": "markdown",
   "metadata": {},
   "source": [
    "<br/><br/><hr>\n",
    "<a id=\"primitives\"></a>\n",
    "<h3>Primitive Data Types</h3>\n",
    "<p style=\"text-align:justify;\">\n",
    "    <ol>\n",
    "        <li id=\"integers\" style=\"text-align:justify;\"><b>Integer</b> - Whole numbers, 0, and their negative counterparts.</li><br/>\n",
    "        <li id=\"floats\" style=\"text-align:justify;\"><b>Float</b> - Decimal numbers, accurate up to 16 decimal places.</li><br/>\n",
    "        <li id=\"booleans\" style=\"text-align:justify;\"><b>Boolean</b> - True or False</li><br/>\n",
    "        <li id=\"characters\" style=\"text-align:justify;\"><b>Character</b> - A character is a single text symbol (see <a href=\"http://www.asciitable.com/\">ASCII Table</a>). However, there is no such data type in Python. All characters are considered Strings in Python.</li><br/>\n",
    "        <li id=\"strings\" style=\"text-align:justify;\"><b>String</b> - A sequence of characters (or text symbols).</li>\n",
    "    </ol>\n",
    "</p><br/>"
   ]
  },
  {
   "cell_type": "code",
   "execution_count": 2,
   "metadata": {},
   "outputs": [],
   "source": [
    "num1 = 42      # This is an example of an integer\n",
    "pi = 3.14      # This is an example of a float\n",
    "alive = True   # This is an example of a boolean\n",
    "first = \"Bob\"  # This is an example of a String\n",
    "last = 'Jones' # This is also an example of a String"
   ]
  }
 ],
 "metadata": {
  "kernelspec": {
   "display_name": "Python 3",
   "language": "python",
   "name": "python3"
  },
  "language_info": {
   "codemirror_mode": {
    "name": "ipython",
    "version": 3
   },
   "file_extension": ".py",
   "mimetype": "text/x-python",
   "name": "python",
   "nbconvert_exporter": "python",
   "pygments_lexer": "ipython3",
   "version": "3.7.6"
  }
 },
 "nbformat": 4,
 "nbformat_minor": 4
}

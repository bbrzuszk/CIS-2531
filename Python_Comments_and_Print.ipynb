{
 "cells": [
  {
   "cell_type": "markdown",
   "metadata": {},
   "source": [
    "<h1>Python - Comments & The Print Function</h1>\n",
    "<hr style=\"height:2px;border:none;color:#333;background-color:#333;\" />\n",
    "<p>This lesson covers the following topics:\n",
    "<ul>\n",
    "    <li><a href=\"#comments\">Commenting in Python</a></li>\n",
    "    <li><a href=\"#print\">The print( ) Function</a></li>\n",
    "</ul>\n",
    "</p>"
   ]
  },
  {
   "cell_type": "markdown",
   "metadata": {},
   "source": [
    "<br/><br/><hr>\n",
    "<a id=\"comments\"></a>\n",
    "<h3>Comments:</h3>\n",
    "<p style=\"text-align:justify;\"><u><a href=\"https://www.w3schools.com/python/python_comments.asp\">Comments</a> are non-executable lines of code</u> in a program. Although comments don't actually execute anything, they are extremely important in regards to the overall structure of your program and can help explain your code and make your program more readable. <i>Writing programs that are well-structured and readable are essential to becoming an excellent programmer.</i> There are usually a few different types of comments in any programming language. Our examples below will be specific to the Python programming language.</p><br/>\n",
    "\n",
    "<dl>\n",
    "    <dd><u>Types of Python Comments:</u></dd>\n",
    "  <dd>- Single-Line Comment</dd>\n",
    "  <dd>- Multi-Line Comment</dd>\n",
    "  <dd>- Docstring</dd>\n",
    "</dl>"
   ]
  },
  {
   "cell_type": "code",
   "execution_count": 1,
   "metadata": {},
   "outputs": [],
   "source": [
    "# This is an example of a \"single-line\" comment in Python. All single-line comments start with a hashtag.\n",
    "\n",
    "\"\"\"\n",
    "This is an example of a \"multi-line\" comment\n",
    "in Python. Anything in-between the triple-quotes will not execute.\n",
    "(Technically speaking, this is a String literal.)\n",
    "\"\"\"\n",
    "\n",
    "# ______________________________________________________________________________________________________\n",
    "# Below is an example of a \"docstring\" comment. It is surrounded by triple-quotes and this one describes\n",
    "# the task of the getDistance() function. Docstrings usually follow the header of a class or function.\n",
    "\n",
    "def getDistance(x1, y1, x2, y2):\n",
    "    \"\"\"Returns the distance between points (x1,y1) and (x2,y2).\"\"\"\n",
    "    return ((x2 - x1)**2 + (y2 - y1)**2)**(1/2)"
   ]
  },
  {
   "cell_type": "markdown",
   "metadata": {},
   "source": [
    "<br/><br/><hr>\n",
    "<a id=\"print\"></a>\n",
    "<h3>The print( ) Function:</h3>\n",
    "<p style=\"text-align:justify;\"><u>The <a href=\"https://www.w3schools.com/python/ref_func_print.asp#:~:text=The%20print()%20function%20prints,before%20written%20to%20the%20screen.\">print( )</a> function prints the specified message to the console</u> or other standard output device. The message can be a string or any other object and that object will be converted into a string before written to the screen. The print( ) function is extremely flexible and can handle many <a href=\"https://www.w3schools.com/python/gloss_python_function_arguments.asp\">arguments</a>.</p>\n",
    "<p>By default, the print( ) function will print the message and the curser will go to the next line (default parameter: end=\"\\n\"). However, you can change the default ending by simply adding whatever ending you want as a string. For example, if I want the ending to be a single space and remain on the same line, I would add the argument: end=\" \".</p><br/>"
   ]
  },
  {
   "cell_type": "code",
   "execution_count": 2,
   "metadata": {},
   "outputs": [
    {
     "name": "stdout",
     "output_type": "stream",
     "text": [
      "Hello World!\n",
      "Hello World!\n",
      "ABC 123 False\n",
      "\n",
      "Changing the default ending... I'm on the same line!\n",
      "\n",
      "6\n"
     ]
    }
   ],
   "source": [
    "# These are examples of using the print() function in various ways.\n",
    "\n",
    "print(\"Hello World!\")\n",
    "print(\"Hello\", \"World!\")\n",
    "print(\"ABC\", 123, False)\n",
    "print()\n",
    "\n",
    "print(\"Changing the default ending...\", end=\" \")\n",
    "print(\"I'm on the same line!\")\n",
    "print()\n",
    "\n",
    "print(1+2+3)"
   ]
  }
 ],
 "metadata": {
  "kernelspec": {
   "display_name": "Python 3",
   "language": "python",
   "name": "python3"
  },
  "language_info": {
   "codemirror_mode": {
    "name": "ipython",
    "version": 3
   },
   "file_extension": ".py",
   "mimetype": "text/x-python",
   "name": "python",
   "nbconvert_exporter": "python",
   "pygments_lexer": "ipython3",
   "version": "3.7.2"
  }
 },
 "nbformat": 4,
 "nbformat_minor": 4
}

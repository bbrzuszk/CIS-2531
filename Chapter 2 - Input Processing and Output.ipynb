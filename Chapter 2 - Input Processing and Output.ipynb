{
 "cells": [
  {
   "cell_type": "markdown",
   "metadata": {},
   "source": [
    "<h1>Python - Comments & The Print Function</h1>\n",
    "<hr style=\"height:2px;border:none;color:#333;background-color:#333;\" />\n",
    "<p>This lesson covers the following topics:\n",
    "<ul>\n",
    "    <li><a href=\"#comments\">Commenting in Python</a></li>\n",
    "    <li><a href=\"#print\">The print( ) Function</a></li>\n",
    "</ul>\n",
    "</p>"
   ]
  },
  {
   "cell_type": "markdown",
   "metadata": {},
   "source": [
    "<br/><br/><hr>\n",
    "<a id=\"comments\"></a>\n",
    "<h3>Comments:</h3>\n",
    "<p style=\"text-align:justify;\"><u><a href=\"https://www.w3schools.com/python/python_comments.asp\">Comments</a> are non-executable lines of code</u> in a program. Although comments don't actually execute anything, they are extremely important in regards to the overall structure of your program and can help explain your code and make your program more readable. <i>Writing programs that are well-structured and readable are essential to becoming an excellent programmer.</i> There are usually a few different types of comments in any programming language. Our examples below will be specific to the Python programming language.</p><br/>\n",
    "\n",
    "<dl>\n",
    "    <dd><u>Types of Python Comments:</u></dd>\n",
    "  <dd>- Single-Line Comment</dd>\n",
    "  <dd>- Multi-Line Comment</dd>\n",
    "  <dd>- Docstring</dd>\n",
    "</dl>"
   ]
  },
  {
   "cell_type": "code",
   "execution_count": 1,
   "metadata": {},
   "outputs": [],
   "source": [
    "# This is an example of a \"single-line\" comment in Python. All single-line comments start with a hashtag.\n",
    "\n",
    "\"\"\"\n",
    "This is an example of a \"multi-line\" comment\n",
    "in Python. Anything in-between the triple-quotes will not execute.\n",
    "(Technically speaking, this is a String literal.)\n",
    "\"\"\"\n",
    "\n",
    "# ______________________________________________________________________________________________________\n",
    "# Below is an example of a \"docstring\" comment. It is surrounded by triple-quotes and this one describes\n",
    "# the task of the getDistance() function. Docstrings usually follow the header of a class or function.\n",
    "\n",
    "def getDistance(x1, y1, x2, y2):\n",
    "    \"\"\"Returns the distance between points (x1,y1) and (x2,y2).\"\"\"\n",
    "    return ((x2 - x1)**2 + (y2 - y1)**2)**(1/2)"
   ]
  },
  {
   "cell_type": "markdown",
   "metadata": {},
   "source": [
    "<br/><br/><hr>\n",
    "<a id=\"print\"></a>\n",
    "<h3>The print( ) Function:</h3>\n",
    "<p style=\"text-align:justify;\"><u>The <a href=\"https://www.w3schools.com/python/ref_func_print.asp#:~:text=The%20print()%20function%20prints,before%20written%20to%20the%20screen.\">print( )</a> function prints the specified message to the console</u> or other standard output device. The message can be a string or any other object and that object will be converted into a string before written to the screen. The print( ) function is extremely flexible and can handle many <a href=\"https://www.w3schools.com/python/gloss_python_function_arguments.asp\">arguments</a>.</p>\n",
    "<p>By default, the print( ) function will print the message and the curser will go to the next line (default parameter: end=\"\\n\"). However, you can change the default ending by simply adding whatever ending you want as a string. For example, if I want the ending to be a single space and remain on the same line, I would add the argument: end=\" \".</p><br/>"
   ]
  },
  {
   "cell_type": "code",
   "execution_count": 2,
   "metadata": {},
   "outputs": [
    {
     "name": "stdout",
     "output_type": "stream",
     "text": [
      "Hello World!\n",
      "Hello World!\n",
      "ABC 123 False\n",
      "\n",
      "Changing the default ending... I'm on the same line!\n",
      "\n",
      "6\n"
     ]
    }
   ],
   "source": [
    "# These are examples of using the print() function in various ways.\n",
    "\n",
    "print(\"Hello World!\")\n",
    "print(\"Hello\", \"World!\")\n",
    "print(\"ABC\", 123, False)\n",
    "print()\n",
    "\n",
    "print(\"Changing the default ending...\", end=\" \")\n",
    "print(\"I'm on the same line!\")\n",
    "print()\n",
    "\n",
    "print(1+2+3)"
   ]
  },
  {
   "cell_type": "markdown",
   "metadata": {},
   "source": [
    "<hr style = \"border: 5px solid blue; border-radius: 2px;\">"
   ]
  },
  {
   "cell_type": "markdown",
   "metadata": {},
   "source": [
    "<h1>Python - Variables & Primitive Data Types</h1>\n",
    "<hr style=\"height:2px;border:none;color:#333;background-color:#333;\" />\n",
    "<p>This lesson covers the following topics:\n",
    "<ul>\n",
    "    <li><a href=\"#variables\">Variables - Declaration & Assignment</a></li>\n",
    "    <li><a href=\"#naming\">Variable Naming Conventions</a></li>\n",
    "    <li><a href=\"#primitives\">Primitive Data Types</a></li>\n",
    "        <ul>\n",
    "            <li><a href=\"#integers\">Integer</a></li>\n",
    "            <li><a href=\"#floats\">Float</a></li>\n",
    "            <li><a href=\"#booleans\">Boolean</a></li>\n",
    "            <li><a href=\"#characters\">Character</a></li>\n",
    "            <li><a href=\"#strings\">String</a></li>\n",
    "        </ul>\n",
    "    <li><a href = \"#formattedPrint\">Formatted Print Statements</a></li>\n",
    "</ul>\n",
    "</p>"
   ]
  },
  {
   "cell_type": "markdown",
   "metadata": {},
   "source": [
    "<hr>\n",
    "<a id=\"variables\"></a>\n",
    "<h3>Variables - Declaration & Assignment</h3>\n",
    "<p style=\"text-align:justify;\">\n",
    "    <u>In a programming language <a href=\"https://www.w3schools.com/python/python_variables.asp\">variables</a> are containers for storing data values</u>. This is different than variables in Mathematics because the variables in programming have multiple \"data type\" associated with them, whereas in Mathematics they typically only represent numbers. For example, in Computer Science a variable with an \"integer\" data type can only store integer numbers, a \"boolean\" data type can only store True or False, a \"float\" data type can only store decimal numbers, a \"String\" data type can only store strings (text), et cetera.\n",
    "</p>\n",
    "\n",
    "<p>While programming, using a variable is broken down into two parts, the <u>declaration</u> and <u>assignment</u>:\n",
    "    <ol>\n",
    "        <li style=\"text-align:justify;\"><b>Declaration</b> - <u>When we declare a variable, we are specifying its <i>name</i> and <i>data type</i></u>. It is important for a program to know the data type of the variable you're declaring because different data types take up different amounts of space in the computer's memory (i.e. it takes more memory to store a float than an integer). For example, if you declared an integer variable with the name \"x\" in your program, behind the scenes the Python interpreter looks for an open memory address in RAM (Random Access Memory) that is big enough to store an integer. Then it reserves that memory address for that variable. After that, every time you use the variable \"x\" in your program, it's going to go to that memory address and retrieve whatever value is stored in that memory location.</li><br/>\n",
    "        <li style=\"text-align:justify;\"><b>Assignment</b> - <u>When we assign a value to a variable, we are literally saving a <i>value</i> to the memory address associated with that variable.</u> Once a variable is declared, you can overwrite (or \"assign\") a new value to it as many times as you like. Every time you do this, the computer is simply going to that variable's location in memory and overwriting the value. The operator for assigning a value to a variable is the equal (=) sign.<br/><br/><i>(It is important to note that when you reassign the value of a variable, there is no way to retrieve the original value.)</i></li>\n",
    "    </ol>\n",
    "</p>\n",
    "\n",
    "<p style=\"text-align:justify; color:#777; margin:30px; padding:20px; background-color: #f0f0f0; border-style: dotted;\">\n",
    "    <i><u>Statically</u> vs. <u>Dynamically</u> Typed Programming Languages:<br/>\n",
    "        A programming language is either statically or dynamically typed. Statically typed programming languages are those in which a variable's data type must explicitly be declared before it is used. Examples of statically typed programming languages are C, C++, Java, etc. Dynamically typed programming languages are those in which a variable's data type is not explicitly declared before it is used. During runtime, the interpreter determines at the time of execution what the variable's data type is. Python is an example of a dynamically typed programming language.<br/><br/>\n",
    "        Static Programming Language Example:<br/>\n",
    "        int x;<br/>\n",
    "        x = 2;<br/>\n",
    "        <br/>\n",
    "        Dynamic Programming Language Example:<br/>\n",
    "        x = 2</i>\n",
    "</p>\n",
    "\n",
    "<a id=\"naming\"></a>\n",
    "<h3>Variable Naming Conventions</h3>\n",
    "\n",
    "<p>Variable naming conventions in Python are as follows:<br/>\n",
    "    <ul>\n",
    "        <li>A variable name must start with a letter or the underscore character</li>\n",
    "        <li>A variable name cannot start with a number</li>\n",
    "        <li>A variable name can only contain alpha-numeric characters and underscores (A-z, 0-9, and _ )</li>\n",
    "        <li>Variable names are case-sensitive (age, Age and AGE are three different variables)</li>\n",
    "    </ul>\n",
    "As a rule, you should always try to use short, but descriptive names for your variables.\n",
    "</p>"
   ]
  },
  {
   "cell_type": "code",
   "execution_count": 3,
   "metadata": {},
   "outputs": [
    {
     "name": "stdout",
     "output_type": "stream",
     "text": [
      "The distance between (0,0) and (10,0) is 10.0 units.\n"
     ]
    }
   ],
   "source": [
    "# These are examples of variable declaration and assignments in Python.\n",
    "# -------------------------------------------------------------------------\n",
    "# Keep in mind that the declaration and assignment are two separate events,\n",
    "# but since Python is a dynamically typed programming language, the\n",
    "# declaration occurs during runtime and is not explicitly stated in code.\n",
    "\n",
    "x1 = 0\n",
    "y1 = 0\n",
    "x2 = 10\n",
    "y2 = 0\n",
    "\n",
    "distance = ((x2 - x1)**2 + (y2 - y1)**2)**(1/2)\n",
    "\n",
    "print(f\"The distance between ({x1},{y1}) and ({x2},{y2}) is {distance} units.\")"
   ]
  },
  {
   "cell_type": "markdown",
   "metadata": {},
   "source": [
    "<br/><hr>\n",
    "<a id=\"primitives\"></a>\n",
    "<h3>Primitive Data Types</h3>\n",
    "<p style=\"text-align:justify;\">\n",
    "    <ol>\n",
    "        <li id=\"integers\" style=\"text-align:justify;\"><b>Integer</b> - Whole numbers, 0, and their negative counterparts.</li><br/>\n",
    "        <li id=\"floats\" style=\"text-align:justify;\"><b>Float</b> - Decimal numbers, accurate up to 16 decimal places.</li><br/>\n",
    "        <li id=\"booleans\" style=\"text-align:justify;\"><b>Boolean</b> - True or False</li><br/>\n",
    "        <li id=\"characters\" style=\"text-align:justify;\"><b>Character</b> - A character is a single text symbol (see <a href=\"http://www.asciitable.com/\">ASCII Table</a>). However, there is no such data type in Python. All characters are considered Strings in Python.</li><br/>\n",
    "        <li id=\"strings\" style=\"text-align:justify;\"><b>String</b> - A sequence of characters (or text symbols).</li>\n",
    "    </ol>\n",
    "</p><br/>"
   ]
  },
  {
   "cell_type": "code",
   "execution_count": 4,
   "metadata": {},
   "outputs": [],
   "source": [
    "num1 = 42      # This is an example of an integer\n",
    "pi = 3.14      # This is an example of a float\n",
    "alive = True   # This is an example of a boolean\n",
    "first = \"Bob\"  # This is an example of a String\n",
    "last = 'Jones' # This is also an example of a String"
   ]
  },
  {
   "cell_type": "markdown",
   "metadata": {},
   "source": [
    "<br/>\n",
    "<a id = \"formattedPrint\"></a>\n",
    "<h3>Formated Print</h3>\n",
    "<p style=\"text-align:justify;\">\n",
    "    When printing text that contains variables there are several ways to format your output.  \n",
    "    <ol>\n",
    "        <li> Commas separated string literals and variables</li>\n",
    "        <li> Format method on the string</li>\n",
    "        <li> Formatted string or fString</li>\n",
    "    </ol>\n",
    "</p>"
   ]
  },
  {
   "cell_type": "code",
   "execution_count": 5,
   "metadata": {},
   "outputs": [
    {
     "name": "stdout",
     "output_type": "stream",
     "text": [
      "Hello my name is Brandon and my age is 34\n",
      "Hello my name is Brandon and my age is 34\n",
      "Hello my name is Brandon and my age is 34\n"
     ]
    }
   ],
   "source": [
    "name = \"Brandon\"\n",
    "age = 34\n",
    "\n",
    "print(\"Hello my name is\", name, \"and my age is\", age)            #Comma Separated string literals and variables\n",
    "print(\"Hello my name is {} and my age is {}\".format(name, age))  #Using the format method of strings to insert the variable\n",
    "print(f\"Hello my name is {name} and my age is {age}\")            #Using an f string to insert the variables"
   ]
  },
  {
   "cell_type": "markdown",
   "metadata": {},
   "source": [
    "<p>\n",
    "    Notice the commas separated values always inserts a space between string literals and the variable.  This can make proper fomatting difficult.  The String format method and the f-string use { } to act as placeholder for the variables.  The f-string is more convienient and readable. <b>The String format method is not to be confused with the built in format method used to format number data.  </b>\n",
    "    </p>"
   ]
  },
  {
   "cell_type": "markdown",
   "metadata": {},
   "source": [
    "<hr style = \"border: 5px solid blue; border-radius: 2px;\">"
   ]
  },
  {
   "cell_type": "markdown",
   "metadata": {},
   "source": [
    "<h1>Python - The Input Function and Type-Casting</h1>\n",
    "<hr style=\"height:2px;border:none;color:#333;background-color:#333;\" />\n",
    "<p>This lesson covers the following topics:\n",
    "<ul>\n",
    "    <li><a href=\"#input\">The input( ) Function</a></li>\n",
    "    <li><a href=\"#casting\">Type-Casting</a></li>\n",
    "</ul>\n",
    "</p>"
   ]
  },
  {
   "cell_type": "markdown",
   "metadata": {},
   "source": [
    "<hr>\n",
    "<a id=\"input\"></a>\n",
    "<h3>The input( ) Function</h3>\n",
    "<p style=\"text-align:justify;\">\n",
    "The <a href=\"https://www.w3schools.com/python/ref_func_input.asp\">input( ) function</a> is used to get user input. The function itself accepts an optional string argument, that serves as a prompt for the user input. The user input is always returned as a string.\n",
    "</p>\n",
    "\n",
    "<table style=\"float:left;font-size:14px;text-align:left;\">\n",
    "  <tr style=\"background-color:#c5dfed;\">\n",
    "    <th style=\"font-size:14px;text-align:left;\">Function</th>\n",
    "    <th style=\"font-size:14px;text-align:left;\">Notes</th>\n",
    "  </tr>\n",
    "  <tr>\n",
    "    <td style=\"font-size:14px;text-align:left; font-family: Courier New, Courier, monospace;\">input(prompt)</td>\n",
    "    <td style=\"font-size:14px;text-align:left;\">The prompt is a string and is optional. The function always returns a string.</td>\n",
    "  </tr>\n",
    "</table>"
   ]
  },
  {
   "cell_type": "code",
   "execution_count": 6,
   "metadata": {},
   "outputs": [
    {
     "name": "stdout",
     "output_type": "stream",
     "text": [
      "Please enter your first name: Brandon\n",
      "Please enter your last name: Brzuszkiewicz\n",
      "\n",
      "Good morning Brandon Brzuszkiewicz!\n"
     ]
    }
   ],
   "source": [
    "# Here is an example using the input() function.\n",
    "# ^^^^^^^^^^^^^^^^^^^^^^^^^^^^^^^^^^^^^^^^^^^^^^\n",
    "\n",
    "fName = input(\"Please enter your first name: \")\n",
    "lName = input(\"Please enter your last name: \")\n",
    "\n",
    "print()\n",
    "print(f\"Good morning {fName} {lName}!\")"
   ]
  },
  {
   "cell_type": "markdown",
   "metadata": {},
   "source": [
    "<hr>\n",
    "<a id=\"casting\"></a>\n",
    "<h3>Type-Casting</h3>\n",
    "<p style=\"text-align:justify;\">\n",
    "In Python, we have limitations on which operators will function with different data types. For example, it's completely fine to add an integer and a float, but we are not allowed to add an integer and a string. For these reasons, sometimes it is in our interest to change one data type into another. This is called .<a href=\"https://www.w3schools.com/python/python_casting.asp\">type-casting</a>.\n",
    "</p>\n",
    "<p>\n",
    "<table style=\"float:left;font-size:14px;text-align:left;\">\n",
    "  <tr style=\"background-color:#c5dfed;\">\n",
    "    <th style=\"font-size:14px;text-align:left;\">Function</th>\n",
    "    <th style=\"font-size:14px;text-align:left;\">Notes</th>\n",
    "  </tr>\n",
    "  <tr>\n",
    "    <td style=\"font-size:14px;text-align:left; font-family: Courier New, Courier, monospace;\">int()</td>\n",
    "    <td style=\"font-size:14px;text-align:left;\">Constructs an integer number from an integer literal, a float literal (by rounding down to the previous whole number), or a string literal (providing the string represents a whole number).</td>\n",
    "  </tr>\n",
    "  <tr>\n",
    "    <td style=\"font-size:14px;text-align:left; font-family: Courier New, Courier, monospace;\">float()</td>\n",
    "    <td style=\"font-size:14px;text-align:left;\">Constructs a float number from an integer literal, a float literal or a string literal (providing the string represents a float or an integer).</td>\n",
    "  </tr>\n",
    "  <tr>\n",
    "    <td style=\"font-size:14px;text-align:left; font-family: Courier New, Courier, monospace;\">str()</td>\n",
    "    <td style=\"font-size:14px;text-align:left;\">Constructs a string from a wide variety of data types, including strings, integer literals and float literals.</td>\n",
    "  </tr>\n",
    "</table>"
   ]
  },
  {
   "cell_type": "code",
   "execution_count": 7,
   "metadata": {},
   "outputs": [
    {
     "name": "stdout",
     "output_type": "stream",
     "text": [
      "a=2 b=1 c=42 d=2.0 e=1.68 f=8.0 g=4.2 h=A42 i=2 j=1.68 k=23 l=101010.0 m=6.28 n=22.0 o=2112\n",
      "\n",
      "Please enter a number: 1\n",
      "please enter another number: 2\n",
      "\n",
      "1 + 2 = 3\n"
     ]
    }
   ],
   "source": [
    "# Here are some examples of type-casting.\n",
    "# ^^^^^^^^^^^^^^^^^^^^^^^^^^^^^^^^^^^^^^^\n",
    "\n",
    "a = int(2)        # a will be the integer 2\n",
    "b = int(1.68)     # b will be the integer 1\n",
    "c = int(\"42\")     # c will be the integer 42\n",
    "\n",
    "d = float(2)      # d will be the float 2.0\n",
    "e = float(1.68)   # e will be the float 1.68\n",
    "f = float(\"8\")    # f will be the float 8.0\n",
    "g = float(\"4.2\")  # g will be the float 4.2\n",
    "\n",
    "h = str(\"A42\")    # h will be the string 'A42'\n",
    "i = str(2)        # i will be the string '2'\n",
    "j = str(1.68)     # j will be the string '1.68'\n",
    "\n",
    "\n",
    "# Expressions inside the parenthesis get evaluated first.\n",
    "# ^^^^^^^^^^^^^^^^^^^^^^^^^^^^^^^^^^^^^^^^^^^^^^^^^^^^^^^\n",
    "\n",
    "k = int(\"2\" + \"3\")          # k will be the integer 23\n",
    "l = float((1 + 2) * '10')   # l will be the float 101010.0\n",
    "m = str(3.14 * 2)           # m will be the string '6.28'\n",
    "n = str(float(int(2 * \"2\"))) # n will be the string '22.0'\n",
    "o = str(10 + 11) + str(12)  # o will be the string '2112'\n",
    "\n",
    "\n",
    "# Print out the values of all of the examples.\n",
    "# ^^^^^^^^^^^^^^^^^^^^^^^^^^^^^^^^^^^^^^^^^^^^\n",
    "print(f\"a={a} b={b} c={c} d={d} e={e} f={f} g={g} h={h} i={i} j={j} k={k} l={l} m={m} n={n} o={o}\")\n",
    "\n",
    "\n",
    "\n",
    "# ========================================================================================================\n",
    "# The input() Function and Type-Casting\n",
    "# ^^^^^^^^^^^^^^^^^^^^^^^^^^^^^^^^^^^^^\n",
    "# Since the input() function always returns a string, many times we need to type-cast it to do arithmetic.\n",
    "\n",
    "num1 = input(\"\\nPlease enter a number: \")\n",
    "num2 = input(\"please enter another number: \")\n",
    "\n",
    "num3 = int(num1) + int(num2)   # Here we type-casted to integers so we could do some math.\n",
    "\n",
    "print(f\"\\n{num1} + {num2} = {num3}\")\n"
   ]
  },
  {
   "cell_type": "markdown",
   "metadata": {},
   "source": []
  }
 ],
 "metadata": {
  "kernelspec": {
   "display_name": "Python 3",
   "language": "python",
   "name": "python3"
  },
  "language_info": {
   "codemirror_mode": {
    "name": "ipython",
    "version": 3
   },
   "file_extension": ".py",
   "mimetype": "text/x-python",
   "name": "python",
   "nbconvert_exporter": "python",
   "pygments_lexer": "ipython3",
   "version": "3.7.6"
  }
 },
 "nbformat": 4,
 "nbformat_minor": 4
}

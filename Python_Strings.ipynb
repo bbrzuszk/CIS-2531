{
 "cells": [
  {
   "cell_type": "markdown",
   "metadata": {},
   "source": [
    "<h1>Python - Strings</h1>\n",
    "<hr style=\"height:2px;border:none;color:#333;background-color:#333;\" />\n",
    "<p>This lesson covers the following topics:\n",
    "<ul>\n",
    "    <li><a href=\"#string\">The String Data Type</a></li>\n",
    "    <li><a href=\"#building\">Building Strings</a></li>\n",
    "    <li><a href=\"#escape\">Escape Sequences</a></li>\n",
    "    <li><a href=\"#common\">Common String Functions</a></li>\n",
    "</ul>\n",
    "</p>"
   ]
  },
  {
   "cell_type": "markdown",
   "metadata": {},
   "source": [
    "<hr>\n",
    "<a id=\"string\"></a>\n",
    "<h3>The String Data Type</h3>\n",
    "<p style=\"text-align:justify;\">\n",
    "    <a href=\"https://www.w3schools.com/python/python_strings.asp\">Strings</a> in Python are text surrounded by either single quotation marks, or double quotation marks. Strings are immutable objects and consist of a sequence of characters. Each character (or element) of the sequence has an index, with the first character starting at index 0.\n",
    "</p>\n",
    "<p style=\"width=100%; font-weight: bold; text-align: center;\">string = \"Hello World!\"</p>\n",
    "<table style=\"border: 1px solid black;\">\n",
    "<tbody>\n",
    "    <tr>\n",
    "      <td style=\"border: 1px solid black; width: 20px; text-align: center;\">INDEX:</td>\n",
    "      <td style=\"border: 1px solid black; width: 20px; text-align: center;\"> 0</td>\n",
    "      <td style=\"border: 1px solid black; width: 20px; text-align: center;\"> 1</td>\n",
    "      <td style=\"border: 1px solid black; width: 20px; text-align: center;\"> 2</td>\n",
    "      <td style=\"border: 1px solid black; width: 20px; text-align: center;\"> 3</td>\n",
    "      <td style=\"border: 1px solid black; width: 20px; text-align: center;\"> 4</td>\n",
    "      <td style=\"border: 1px solid black; width: 20px; text-align: center;\"> 5</td>\n",
    "      <td style=\"border: 1px solid black; width: 20px; text-align: center;\"> 6</td>\n",
    "      <td style=\"border: 1px solid black; width: 20px; text-align: center;\"> 7</td>\n",
    "      <td style=\"border: 1px solid black; width: 20px; text-align: center;\"> 8</td>\n",
    "      <td style=\"border: 1px solid black; width: 20px; text-align: center;\"> 9</td>\n",
    "      <td style=\"border: 1px solid black; width: 20px; text-align: center;\">10</td>\n",
    "      <td style=\"border: 1px solid black; width: 20px; text-align: center;\">11</td>\n",
    "    </tr>\n",
    "    <tr>\n",
    "      <td style=\"border: 1px solid black; width: 20px; text-align: center; text-align: center;\">CHARACTER:</td>\n",
    "      <td style=\"border: 1px solid black; width: 20px; font-weight: bold; text-align: center;\">H</td>\n",
    "      <td style=\"border: 1px solid black; width: 20px; font-weight: bold; text-align: center;\">e</td>\n",
    "      <td style=\"border: 1px solid black; width: 20px; font-weight: bold; text-align: center;\">l</td>\n",
    "      <td style=\"border: 1px solid black; width: 20px; font-weight: bold; text-align: center;\">l</td>\n",
    "      <td style=\"border: 1px solid black; width: 20px; font-weight: bold; text-align: center;\">o</td>\n",
    "      <td style=\"border: 1px solid black; width: 20px; font-weight: bold; text-align: center;\"> </td>\n",
    "      <td style=\"border: 1px solid black; width: 20px; font-weight: bold; text-align: center;\">W</td>\n",
    "      <td style=\"border: 1px solid black; width: 20px; font-weight: bold; text-align: center;\">o</td>\n",
    "      <td style=\"border: 1px solid black; width: 20px; font-weight: bold; text-align: center;\">r</td>\n",
    "      <td style=\"border: 1px solid black; width: 20px; font-weight: bold; text-align: center;\">l</td>\n",
    "      <td style=\"border: 1px solid black; width: 20px; font-weight: bold; text-align: center;\">d</td>\n",
    "      <td style=\"border: 1px solid black; width: 20px; font-weight: bold; text-align: center;\">!</td>\n",
    "    </tr>\n",
    "  </tbody>\n",
    "</table>"
   ]
  },
  {
   "cell_type": "code",
   "execution_count": 1,
   "metadata": {},
   "outputs": [
    {
     "name": "stdout",
     "output_type": "stream",
     "text": [
      "Python\n",
      "Python\n",
      "The Python programming language was created by Guido van Rossum in 1990.\n"
     ]
    }
   ],
   "source": [
    "# Examples of String Literals\n",
    "# ^^^^^^^^^^^^^^^^^^^^^^^^^^^\n",
    "print(\"Python\")\n",
    "print('Python')\n",
    "\n",
    "\n",
    "# Assigning a String as a Variable\n",
    "# ^^^^^^^^^^^^^^^^^^^^^^^^^^^^^^^^\n",
    "firstName = \"Guido\"\n",
    "lastName = \"van Rossum\"\n",
    "print(\"The Python programming language was created by\", firstName, lastName, \"in 1990.\")\n",
    "\n",
    "\n",
    "# Example of a Multi-line String\n",
    "# ^^^^^^^^^^^^^^^^^^^^^^^^^^^^^^\n",
    "quote = \"\"\"Multi-line Strings are surrounded\n",
    "            by triple quotes (single or double).\"\"\"\n"
   ]
  },
  {
   "cell_type": "markdown",
   "metadata": {},
   "source": [
    "<hr>\n",
    "<a id=\"building\"></a>\n",
    "<h3>Building Strings</h3>\n",
    "<p style=\"text-align:justify;\">\n",
    "There are many ways to build strings. We will discuss two here, Concatenation and f-String. \n",
    "</p>\n",
    "<ul>\n",
    "    <li><a href=\"https://www.w3schools.com/python/gloss_python_string_concatenation.asp\">Concatenation</a> is the most straight-forward and common way to join strings together. We concatenate strings by using the addition (+) operator.</li>\n",
    "    <li><a href=\"https://realpython.com/python-f-strings/\">f-String</a> stands for \"formatted string\" and it is a new and efficient way to build strings, without making it too verbose. To create a \"formatted string\", we simply put an f directly in front of the string (before the quotation marks).</li>\n",
    "</ul>"
   ]
  },
  {
   "cell_type": "code",
   "execution_count": 2,
   "metadata": {},
   "outputs": [
    {
     "name": "stdout",
     "output_type": "stream",
     "text": [
      "abcdef\n",
      "Your favorite number is 2.\n",
      "The point we are graphing is (1,2).\n",
      "1 + 2 = 3\n"
     ]
    }
   ],
   "source": [
    "# Examples of Concatenation (Joining Strings)\n",
    "# ^^^^^^^^^^^^^^^^^^^^^^^^^^^^^^^^^^^^^^^^^^^\n",
    "string1 = \"abc\"\n",
    "string2 = \"def\"\n",
    "print(string1 + string2)   # Concatenation\n",
    "\n",
    "favNum = 2\n",
    "print(\"Your favorite number is \" + str(favNum) + \".\") # You must type-cast the integer to a string to concatenate\n",
    "                                                      # because you can only concatenate two string data types.\n",
    "\n",
    "\n",
    "# Examples of using f-String\n",
    "# ^^^^^^^^^^^^^^^^^^^^^^^^^^\n",
    "x = 1\n",
    "y = 2\n",
    "print(f\"The point we are graphing is ({x},{y}).\")\n",
    "print(f\"{x} + {y} = {x+y}\")\n"
   ]
  },
  {
   "cell_type": "markdown",
   "metadata": {},
   "source": [
    "<hr>\n",
    "<a id=\"escape\"></a>\n",
    "<h3>Escape Sequences</h3>\n",
    "<p style=\"text-align:justify;\">\n",
    "To insert characters that are illegal in a string, use an <a href=\"https://www.w3schools.com/python/gloss_python_escape_characters.asp\">escape sequence</a>. An escape sequence is a backslash \\ followed by the character you want to insert. An example of an illegal character is a double quote inside a string that is surrounded by double quotes.</p>\n",
    "<p>Some of the common escape sequences we'll use in this class are:</p>\n",
    "<table style=\"border: 1px solid black; align:left;\">\n",
    "<tbody>\n",
    "    <tr>\n",
    "      <th style=\"border: 1px solid black; width: 20px; text-align: center;\">Code</th>\n",
    "      <th style=\"border: 1px solid black; text-align: center;\"> Result</th>\n",
    "    </tr>\n",
    "    <tr>\n",
    "      <td style=\"border: 1px solid black; width: 20px; text-align: center;\">\\\"</td>\n",
    "      <td style=\"border: 1px solid black; text-align: center;\">Double Quote</td>\n",
    "    </tr>\n",
    "    <tr>\n",
    "      <td style=\"border: 1px solid black; width: 20px; text-align: center;\">\\'</td>\n",
    "      <td style=\"border: 1px solid black; text-align: center;\">Single Quote</td>\n",
    "    </tr>\n",
    "    <tr>\n",
    "      <td style=\"border: 1px solid black; width: 20px; text-align: center;\">\\\\</td>\n",
    "      <td style=\"border: 1px solid black; text-align: center;\">Backslash</td>\n",
    "    </tr>\n",
    "    <tr>\n",
    "      <td style=\"border: 1px solid black; width: 20px; text-align: center;\">\\n</td>\n",
    "      <td style=\"border: 1px solid black; text-align: center;\">New Line</td>\n",
    "    </tr>\n",
    "    <tr>\n",
    "      <td style=\"border: 1px solid black; width: 20px; text-align: center;\">\\t</td>\n",
    "      <td style=\"border: 1px solid black; text-align: center;\">Tab</td>\n",
    "    </tr>\n",
    "  </tbody>\n",
    "</table>"
   ]
  },
  {
   "cell_type": "code",
   "execution_count": 3,
   "metadata": {},
   "outputs": [
    {
     "name": "stdout",
     "output_type": "stream",
     "text": [
      "\"Simplicity is the ultimate sophistication.\" – Leonardo da Vinci\n",
      "\"Don't panic.\" - Hitchhiker's Guide to the Galaxy\n",
      "C:\\\\Desktop\\python_rules.py\n",
      "I feel like... \n",
      " moving to a new line.\n",
      "Taaaab to the right. \t criss cross!\n"
     ]
    }
   ],
   "source": [
    "# Examples of Escape Sequences\n",
    "# ^^^^^^^^^^^^^^^^^^^^^^^^^^^^\n",
    "print(\"\\\"Simplicity is the ultimate sophistication.\\\" – Leonardo da Vinci\")   # \\\" Double Quote\n",
    "print('\"Don\\'t panic.\" - Hitchhiker\\'s Guide to the Galaxy')                  # \\' Single Quote\n",
    "print(\"C:\\\\\\\\Desktop\\\\python_rules.py\")                                       # \\\\ Backslash\n",
    "print(\"I feel like... \\n moving to a new line.\")                              # \\n New Line\n",
    "print(\"Taaaab to the right. \\t criss cross!\")                                 # \\t Tab\n"
   ]
  },
  {
   "cell_type": "markdown",
   "metadata": {},
   "source": [
    "<hr>\n",
    "<a id=\"common\"></a>\n",
    "<h3>Common String Functions</h3>\n",
    "<p style=\"text-align:justify;\">\n",
    "The Python String class has many useful <a href=\"https://www.w3schools.com/python/python_ref_string.asp\">string functions</a> you can use on a string. You use these functions by placing a dot after a string or string variable and calling the function of your choice. This is known as \"dot notation\". It's important to note that these functions don't actually change the string itself, but return a new string with the changed properties.</p>\n",
    "<table style=\"border: 1px solid black; align:left;\">\n",
    "<tbody>\n",
    "    <tr>\n",
    "      <th style=\"border: 1px solid black; width: 20px; text-align: left;\">Function</th>\n",
    "      <th style=\"border: 1px solid black; text-align: center;\"> Description</th>\n",
    "    </tr>\n",
    "    <tr>\n",
    "      <td style=\"border: 1px solid black; width: 20px; text-align: left;\">find( )</td>\n",
    "      <td style=\"border: 1px solid black; text-align: left;\">Searches the string for a specified value and returns the position of where it was found.</td>\n",
    "    </tr>\n",
    "    <tr>\n",
    "      <td style=\"border: 1px solid black; width: 20px; text-align: left;\">lower( )</td>\n",
    "      <td style=\"border: 1px solid black; text-align: left;\">Returns a lower case version of the string.</td>\n",
    "    </tr>\n",
    "    <tr>\n",
    "      <td style=\"border: 1px solid black; width: 20px; text-align: left;\">title( )</td>\n",
    "      <td style=\"border: 1px solid black; text-align: left;\">Returns the string with the first character of each word in upper case.</td>\n",
    "    </tr>\n",
    "    <tr>\n",
    "      <td style=\"border: 1px solid black; width: 20px; text-align: left;\">upper( )</td>\n",
    "      <td style=\"border: 1px solid black; text-align: left;\">Returns an upper case version of the string.</td>\n",
    "    </tr>\n",
    "  </tbody>\n",
    "</table>"
   ]
  },
  {
   "cell_type": "code",
   "execution_count": 4,
   "metadata": {},
   "outputs": [
    {
     "name": "stdout",
     "output_type": "stream",
     "text": [
      "          sentence =  ThIs CaPiTaLiZaTiOn DoEsN't MaKe AnY sEnSe!   <= Original\n",
      "sentence.find(\"P\") =  7\n",
      "  sentence.lower() =  this capitalization doesn't make any sense!\n",
      "  sentence.title() =  This Capitalization Doesn'T Make Any Sense!\n",
      "  sentence.upper() =  THIS CAPITALIZATION DOESN'T MAKE ANY SENSE!\n",
      "          sentence =  ThIs CaPiTaLiZaTiOn DoEsN't MaKe AnY sEnSe!   <= You can see the original never changed.\n"
     ]
    }
   ],
   "source": [
    "# Examples of String Functions\n",
    "# ^^^^^^^^^^^^^^^^^^^^^^^^^^^^\n",
    "sentence = \"ThIs CaPiTaLiZaTiOn DoEsN't MaKe AnY sEnSe!\"\n",
    "print(\"          sentence = \", sentence, \"  <= Original\")\n",
    "print('sentence.find(\"P\") = ', sentence.find(\"P\"))\n",
    "print(\"  sentence.lower() = \", sentence.lower())\n",
    "print(\"  sentence.title() = \", sentence.title())\n",
    "print(\"  sentence.upper() = \", sentence.upper())\n",
    "print(\"          sentence = \", sentence, \"  <= You can see the original never changed.\")"
   ]
  }
 ],
 "metadata": {
  "kernelspec": {
   "display_name": "Python 3",
   "language": "python",
   "name": "python3"
  },
  "language_info": {
   "codemirror_mode": {
    "name": "ipython",
    "version": 3
   },
   "file_extension": ".py",
   "mimetype": "text/x-python",
   "name": "python",
   "nbconvert_exporter": "python",
   "pygments_lexer": "ipython3",
   "version": "3.7.2"
  }
 },
 "nbformat": 4,
 "nbformat_minor": 4
}

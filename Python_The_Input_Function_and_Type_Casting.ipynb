{
 "cells": [
  {
   "cell_type": "markdown",
   "metadata": {},
   "source": [
    "<h1>Python - The Input Function and Type-Casting</h1>\n",
    "<hr style=\"height:2px;border:none;color:#333;background-color:#333;\" />\n",
    "<p>This lesson covers the following topics:\n",
    "<ul>\n",
    "    <li><a href=\"#input\">The input( ) Function</a></li>\n",
    "    <li><a href=\"#casting\">Type-Casting</a></li>\n",
    "</ul>\n",
    "</p>"
   ]
  },
  {
   "cell_type": "markdown",
   "metadata": {},
   "source": [
    "<hr>\n",
    "<a id=\"input\"></a>\n",
    "<h3>The input( ) Function</h3>\n",
    "<p style=\"text-align:justify;\">\n",
    "The <a href=\"https://www.w3schools.com/python/ref_func_input.asp\">input( ) function</a> is used to get user input. The function itself accepts an optional string argument, that serves as a prompt for the user input. The user input is always returned as a string.\n",
    "</p>\n",
    "\n",
    "<table style=\"float:left;font-size:14px;text-align:left;\">\n",
    "  <tr style=\"background-color:#c5dfed;\">\n",
    "    <th style=\"font-size:14px;text-align:left;\">Function</th>\n",
    "    <th style=\"font-size:14px;text-align:left;\">Notes</th>\n",
    "  </tr>\n",
    "  <tr>\n",
    "    <td style=\"font-size:14px;text-align:left; font-family: Courier New, Courier, monospace;\">input(prompt)</td>\n",
    "    <td style=\"font-size:14px;text-align:left;\">The prompt is a string and is optional. The function always returns a string.</td>\n",
    "  </tr>\n",
    "</table>"
   ]
  },
  {
   "cell_type": "code",
   "execution_count": 1,
   "metadata": {},
   "outputs": [
    {
     "name": "stdout",
     "output_type": "stream",
     "text": [
      "Please enter your first name: Ford\n",
      "Please enter your last name: Prefect\n",
      "\n",
      "Good morning Ford Prefect!\n"
     ]
    }
   ],
   "source": [
    "# Here is an example using the input() function.\n",
    "# ^^^^^^^^^^^^^^^^^^^^^^^^^^^^^^^^^^^^^^^^^^^^^^\n",
    "\n",
    "fName = input(\"Please enter your first name: \")\n",
    "lName = input(\"Please enter your last name: \")\n",
    "\n",
    "print()\n",
    "print(f\"Good morning {fName} {lName}!\")\n"
   ]
  },
  {
   "cell_type": "markdown",
   "metadata": {},
   "source": [
    "<hr>\n",
    "<a id=\"casting\"></a>\n",
    "<h3>Type-Casting</h3>\n",
    "<p style=\"text-align:justify;\">\n",
    "In Python, we have limitations on which operators will function with different data types. For example, it's completely fine to add an integer and a float, but we are not allowed to add an integer and a string. For these reasons, sometimes it is in our interest to change one data type into another. This is called .<a href=\"https://www.w3schools.com/python/python_casting.asp\">type-casting</a>.\n",
    "</p>\n",
    "<p>\n",
    "<table style=\"float:left;font-size:14px;text-align:left;\">\n",
    "  <tr style=\"background-color:#c5dfed;\">\n",
    "    <th style=\"font-size:14px;text-align:left;\">Function</th>\n",
    "    <th style=\"font-size:14px;text-align:left;\">Notes</th>\n",
    "  </tr>\n",
    "  <tr>\n",
    "    <td style=\"font-size:14px;text-align:left; font-family: Courier New, Courier, monospace;\">int()</td>\n",
    "    <td style=\"font-size:14px;text-align:left;\">Constructs an integer number from an integer literal, a float literal (by rounding down to the previous whole number), or a string literal (providing the string represents a whole number).</td>\n",
    "  </tr>\n",
    "  <tr>\n",
    "    <td style=\"font-size:14px;text-align:left; font-family: Courier New, Courier, monospace;\">float()</td>\n",
    "    <td style=\"font-size:14px;text-align:left;\">Constructs a float number from an integer literal, a float literal or a string literal (providing the string represents a float or an integer).</td>\n",
    "  </tr>\n",
    "  <tr>\n",
    "    <td style=\"font-size:14px;text-align:left; font-family: Courier New, Courier, monospace;\">str()</td>\n",
    "    <td style=\"font-size:14px;text-align:left;\">Constructs a string from a wide variety of data types, including strings, integer literals and float literals.</td>\n",
    "  </tr>\n",
    "</table>"
   ]
  },
  {
   "cell_type": "code",
   "execution_count": 2,
   "metadata": {},
   "outputs": [
    {
     "name": "stdout",
     "output_type": "stream",
     "text": [
      "a=2 b=1 c=42 d=2.0 e=1.68 f=8.0 g=4.2 h=A42 i=2 j=1.68 k=23 l=101010.0 m=6.28 n=22.0 o=2112\n",
      "\n",
      "Please enter a number: 1\n",
      "please enter another number: 2\n",
      "\n",
      "1 + 2 = 3\n"
     ]
    }
   ],
   "source": [
    "# Here are some examples of type-casting.\n",
    "# ^^^^^^^^^^^^^^^^^^^^^^^^^^^^^^^^^^^^^^^\n",
    "\n",
    "a = int(2)        # a will be the integer 2\n",
    "b = int(1.68)     # b will be the integer 1\n",
    "c = int(\"42\")     # c will be the integer 42\n",
    "\n",
    "d = float(2)      # d will be the float 2.0\n",
    "e = float(1.68)   # e will be the float 1.68\n",
    "f = float(\"8\")    # f will be the float 8.0\n",
    "g = float(\"4.2\")  # g will be the float 4.2\n",
    "\n",
    "h = str(\"A42\")    # h will be the string 'A42'\n",
    "i = str(2)        # i will be the string '2'\n",
    "j = str(1.68)     # j will be the string '1.68'\n",
    "\n",
    "\n",
    "# Expressions inside the parenthesis get evaluated first.\n",
    "# ^^^^^^^^^^^^^^^^^^^^^^^^^^^^^^^^^^^^^^^^^^^^^^^^^^^^^^^\n",
    "\n",
    "k = int(\"2\" + \"3\")          # k will be the integer 23\n",
    "l = float((1 + 2) * '10')   # l will be the float 101010.0\n",
    "m = str(3.14 * 2)           # m will be the string '6.28'\n",
    "n = str(float(int(2 * \"2\"))) # n will be the string '22.0'\n",
    "o = str(10 + 11) + str(12)  # o will be the string '2112'\n",
    "\n",
    "\n",
    "# Print out the values of all of the examples.\n",
    "# ^^^^^^^^^^^^^^^^^^^^^^^^^^^^^^^^^^^^^^^^^^^^\n",
    "print(f\"a={a} b={b} c={c} d={d} e={e} f={f} g={g} h={h} i={i} j={j} k={k} l={l} m={m} n={n} o={o}\")\n",
    "\n",
    "\n",
    "\n",
    "# ========================================================================================================\n",
    "# The input() Function and Type-Casting\n",
    "# ^^^^^^^^^^^^^^^^^^^^^^^^^^^^^^^^^^^^^\n",
    "# Since the input() function always returns a string, many times we need to type-cast it to do arithmetic.\n",
    "\n",
    "num1 = input(\"\\nPlease enter a number: \")\n",
    "num2 = input(\"please enter another number: \")\n",
    "\n",
    "num3 = int(num1) + int(num2)   # Here we type-casted to integers so we could do some math.\n",
    "\n",
    "print(f\"\\n{num1} + {num2} = {num3}\")\n"
   ]
  }
 ],
 "metadata": {
  "kernelspec": {
   "display_name": "Python 3",
   "language": "python",
   "name": "python3"
  },
  "language_info": {
   "codemirror_mode": {
    "name": "ipython",
    "version": 3
   },
   "file_extension": ".py",
   "mimetype": "text/x-python",
   "name": "python",
   "nbconvert_exporter": "python",
   "pygments_lexer": "ipython3",
   "version": "3.7.2"
  }
 },
 "nbformat": 4,
 "nbformat_minor": 4
}

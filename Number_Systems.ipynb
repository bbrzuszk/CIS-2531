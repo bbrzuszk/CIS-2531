{
 "cells": [
  {
   "cell_type": "markdown",
   "metadata": {},
   "source": [
    "<h1>Number Systems</h1>\n",
    "<hr style=\"height:2px;border:none;color:#333;background-color:#333;\" />\n",
    "<p>This lesson covers the following topics:\n",
    "<ul>\n",
    "    <li><a href=\"#history\">A Brief History of Number Systems</a></li>\n",
    "    <li><a href=\"#create\">How to Create a Number System</a></li>\n",
    "    <li><a href=\"#decimal\">The Decimal Number System</a></li>\n",
    "    <li><a href=\"#binary\">The Binary Number System</a></li>\n",
    "    <li><a href=\"#octal\">The Octal Number System</a></li>\n",
    "    <li><a href=\"#hexadecimal\">The Hexadecimal Number System</a></li>\n",
    "</ul>\n",
    "</p>"
   ]
  },
  {
   "cell_type": "markdown",
   "metadata": {},
   "source": [
    "<br><br><br>\n",
    "<a id='history'></a>\n",
    "<h3>A Brief History of Number Systems</h3>\n",
    "<hr style=\"height:1px;border:none;color:#333;\" />\n",
    "<iframe width=\"560\" height=\"315\"  src=\"https://www.youtube.com/embed/cZH0YnFpjwU\" frameborder=\"0\" allow=\"accelerometer; autoplay; encrypted-media; gyroscope; picture-in-picture\" allowfullscreen></iframe>"
   ]
  },
  {
   "cell_type": "markdown",
   "metadata": {},
   "source": [
    "<br><br><br>\n",
    "<a id='create'></a>\n",
    "<h3>How to Create a Number System</h3>\n",
    "<hr style=\"height:1px;border:none;color:#333;\" />\n",
    "<p>It's important to note that the <u>base</u> of the number system determines the <u>number of symbols</u> available to use in that same number system. From there, it's simply a matter of learning how number systems are structured (no need to fear, they are all created using the <i>exact</i> same process). Below is a list of the symbols available in the number systems discussed during this lesson.\n",
    "    <ul>\n",
    "        <li>Decimal (base 10) &rarr; {0,1,2,3,4,5,6,7,8,9}</li>\n",
    "        <li>Binary (base 2) &rarr; {0,1}</li>\n",
    "        <li>Octal (base 8) &rarr; {0,1,2,3,4,5,6,7}</li>\n",
    "        <li>Hexadecimal (base 16) &rarr; {0,1,2,3,4,5,6,7,8,9,A,B,C,D,E,F}</li>\n",
    "    </ul>\n",
    "</p>\n",
    "<p>\n",
    "    Below shows exactly how the Decimal System is created, along with an example, then extrapolating this information to form the Binary, Octal, and Hexadecimal Number Systems.\n",
    "</p>\n",
    "<img src=\"https://dcarroll242.github.io/Number%20Systems/Decimal%20Number%20System.gif\" alt=\"description of gif\" style=\"width:75%;height:auto;margin:0px;\"/>"
   ]
  },
  {
   "cell_type": "markdown",
   "metadata": {},
   "source": [
    "<br><br><br>\n",
    "<a id='decimal'></a>\n",
    "<h3>The Decimal Number System</h3>\n",
    "<hr style=\"height:1px;border:none;color:#333;\" />\n",
    "<p>Decimal refers to the base-10 numbering system. The decimal numbering system uses the numerals 0-1-2-3-4-5-6-7-8-9. You are probably extremely familiar with the Decimal Number System. After all, you've likely spent the majority of you academic career studying it. And although you may consider yourself an expert, it is not very common for students to have a previous understanding of how the system actually works and usually express that they've had a \"revelation\" after learning about how it's created and that they wish they were taught this when they were much younger. It sort of feels like someone has removed a great veil that's been hiding the intricacies of Mathematics from their eyes.</p>\n",
    "<p>Below is a truncated version (missing the decimal places) of the Decimal Number System, along with its corresponding place-values.</p>\n",
    "<img src=\"https://dcarroll242.github.io/Number%20Systems/Decimal%20Number%20System%20Structure.png\" alt=\"description of gif\" style=\"width:50%;height:auto;margin:0px;\"/>"
   ]
  },
  {
   "cell_type": "markdown",
   "metadata": {},
   "source": [
    "<br><br><br>\n",
    "<a id='binary'></a>\n",
    "<h3>The Binary Number System</h3>\n",
    "<hr style=\"height:1px;border:none;color:#333;\" />\n",
    "<p>Binary refers to the base-2 numbering system. The binary numbering system uses the numerals 0 and 1. The Binary Number System is of particular insterest to those who work with computers because it's technically the underlying structure to every \"classical\" computing device ever made. The only exception to this rule are quantum computers, which use qubits as their base unit instead of bits.</p>\n",
    "<p>A bit is a unit of information expressed as either a 1 or 0 (ON or OFF) in binary notation. Therefore, each digit in a binary number represents a bit. Physically, a bit is simply a switch that's either in an ON or OFF state. In the real world, this can be expressed in many ways. It could be a light that's turned ON or OFF (fiber), it could be a copper wire where electrical current is turned ON or OFF (ethernet), it could be an electromagnetic wave where the amplitude or frequency is either HIGH or LOW (wireless), it could be a magnetic 1 or 0 on a metal disk (hard drives), it could be a cell that is either charged or not (solid state hard drives), et cetera...</p>\n",
    "<p>Understanding binary is essential to understanding Computer Science (the study of computation and information). The storage and transmission of ALL information via computers is done in binary; ones and zeros, ons and offs. Computers simply translate binary numbers into something that humans can understand and vice-versa. For example, the number 01000001 gets transformed into the letter \"A\". <i>(see <a href=\"https://www.ascii-code.com/\">ASCII Table</a>)</i></p>\n",
    "\n",
    "<p>Important Naming Conventions:</p>\n",
    "<ul>\n",
    "    <li>8 Bits = 1 Byte</li>\n",
    "    <li>1,024 Bytes = 1 Kilobyte</li>\n",
    "    <li>1,024 Kilobytes = 1 Megabyte</li>\n",
    "    <li>1,024 Megabytes = 1 Gigabyte</li>\n",
    "    <li>1,024 Gigabytes = 1 Terabyte</li>\n",
    "    <li>1,024 Terabytes = 1 Petabyte</li>\n",
    "    <li>1,024 Petabytes = 1 Exobyte</li>\n",
    "</ul>\n",
    "<p>Below is a truncated version of the Binary Number System, along with its corresponding place-values.</p>\n",
    "<img src=\"https://dcarroll242.github.io/Number%20Systems/Binary%20Number%20System%20Structure.png\" alt=\"description of gif\" style=\"width:50%;height:auto;margin:0px;\"/>"
   ]
  },
  {
   "cell_type": "markdown",
   "metadata": {},
   "source": [
    "<br><br><br>\n",
    "<a id='octal'></a>\n",
    "<h3>The Octal Number System</h3>\n",
    "<hr style=\"height:1px;border:none;color:#333;\" />\n",
    "<p>Octal refers to the base-8 numbering system. The octal numbering system uses the numerals 0-1-2-3-4-5-6-7. In computing environments, it is commonly used as a shorter representation of binary numbers by grouping binary digits into threes. The chmod command in Linux or UNIX uses octal to assign file permissions.</p>\n",
    "<p>Octal is another way to count numbers. While humans normally count in tens, and machines count in twos, it is possible to use any number as the basis for counting and calculation. Some Native American tribes have used octal by counting the spaces between fingers. Characters in the 2009 film “Avatar” used octal because they had four fingers on each hand. Some mathematicians have proposed the wider adoption of octal due to it being a highly composite number. And finally, using octal is a convenient way to abbreviate binary numbers.</p>\n",
    "<p>Below is a truncated version of the Octal Number System, along with its corresponding place-values.</p>\n",
    "<img src=\"https://dcarroll242.github.io/Number%20Systems/Octal%20Number%20System%20Structure.png\" alt=\"description of gif\" style=\"width:50%;height:auto;margin:0px;\"/>"
   ]
  },
  {
   "cell_type": "markdown",
   "metadata": {},
   "source": [
    "<br><br><br>\n",
    "<a id='hexadecimal'></a>\n",
    "<h3>The Hexadecimal Number System</h3>\n",
    "<hr style=\"height:1px;border:none;color:#333;\" />\n",
    "<p>Hexadecimal refers to the base-16 numbering system (hex=6 + decimal=10). The hexadecimal numbering system uses the numerals 0-1-2-3-4-5-6-7-8-9-A-B-C-D-E-F. The symbols \"0\"–\"9\" represent the values zero to nine, and \"A\"–\"F\" (or alternatively \"a\"–\"f\") represent the values ten to fifteen.</p>\n",
    "<p>Hexadecimal numerals are widely used by computer system designers and programmers, as they provide a human-friendly representation of binary-coded values. Each hexadecimal digit represents four binary digits, also known as a nibble, which is half a byte. Hexadecimal is also extremely useful as a truncated way of representing colors, in which there are almost 17,000,000 possible colors for a single pixel. For example, the binary number for \"red\" is 111111110000000000000000, while the same number for \"red\" in hexadecimal is FF0000.</p>\n",
    "<p>Below is a truncated version of the Hexadecimal Number System, along with its corresponding place-values.</p>\n",
    "<img src=\"https://dcarroll242.github.io/Number%20Systems/Hexadecimal%20Number%20System%20Structure.png\" alt=\"description of gif\" style=\"width:50%;height:auto;margin:0px;\"/>"
   ]
  }
 ],
 "metadata": {
  "kernelspec": {
   "display_name": "Python 3",
   "language": "python",
   "name": "python3"
  },
  "language_info": {
   "codemirror_mode": {
    "name": "ipython",
    "version": 3
   },
   "file_extension": ".py",
   "mimetype": "text/x-python",
   "name": "python",
   "nbconvert_exporter": "python",
   "pygments_lexer": "ipython3",
   "version": "3.7.6"
  }
 },
 "nbformat": 4,
 "nbformat_minor": 4
}

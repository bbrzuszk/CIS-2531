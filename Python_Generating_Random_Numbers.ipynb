{
 "cells": [
  {
   "cell_type": "markdown",
   "metadata": {},
   "source": [
    "<h1>Python - Generating Random Numbers</h1>\n",
    "<hr style=\"height:2px;border:none;color:#333;background-color:#333;\" />\n",
    "<p>This lesson covers the following topics:\n",
    "<ul>\n",
    "    <li><a href=\"#random\">The random() Function</a></li>\n",
    "    <li><a href=\"#transform\">Transforming the random() Function</a></li>\n",
    "    <li><a href=\"#randrange\">The randrange() Function</a></li>\n",
    "</ul>\n",
    "</p>"
   ]
  },
  {
   "cell_type": "markdown",
   "metadata": {},
   "source": [
    "<br>\n",
    "<a id=\"random\"></a>\n",
    "<h2>The random( ) Function</h2>\n",
    "<hr style=\"height:2px;border:none;color:#333;background-color:#333;\" />\n",
    "<p style=\"text-align:justify;\">\n",
    "Python has a built-in module that you can use to make random numbers. The module is called <a href=\"https://www.w3schools.com/python/module_random.asp\">random</a> and must be imported in order to have access to all of its functions. One of these functions is called the <a href=\"https://www.w3schools.com/python/ref_random_random.asp\">random()</a>, which returns a random floating number in the interval [0, 1). This is the most common starting point for creating a random number in most programming languages. With this simple decimal and a few mathematical operations, you can create a random number in any range you'd like.\n",
    "</p>\n",
    "\n",
    "<table style=\"float:left;font-size:14px;text-align:left;\">\n",
    "  <tr style=\"background-color:#c5dfed;\">\n",
    "    <th style=\"font-size:14px;text-align:left;\">Function</th>\n",
    "    <th style=\"font-size:14px;text-align:left;\">Notes</th>\n",
    "  </tr>\n",
    "  <tr>\n",
    "    <td style=\"font-size:14px;text-align:left; font-family: Courier New, Courier, monospace;\">random()</td>\n",
    "    <td style=\"font-size:14px;text-align:left;\">Returns a random floating number in the interval [0, 1).</td>\n",
    "  </tr>\n",
    "</table>"
   ]
  },
  {
   "cell_type": "code",
   "execution_count": 1,
   "metadata": {},
   "outputs": [
    {
     "name": "stdout",
     "output_type": "stream",
     "text": [
      "0.3104414467009555\n"
     ]
    }
   ],
   "source": [
    "# Here is an example using the random() function.\n",
    "# ^^^^^^^^^^^^^^^^^^^^^^^^^^^^^^^^^^^^^^^^^^^^^^\n",
    "\n",
    "import random\n",
    "\n",
    "print(random.random())\n"
   ]
  },
  {
   "cell_type": "markdown",
   "metadata": {},
   "source": [
    "<br>\n",
    "<a id=\"transform\"></a>\n",
    "<h2>Transforming the random() Function</h2>\n",
    "<hr style=\"height:2px;border:none;color:#333;background-color:#333;\" />\n",
    "<p style=\"text-align:justify;\">\n",
    "Given that the random() function returns a random number in the interval [0, 1), we have to perform a few simple mathematical operations to transform this interval into the range of numbers of our choice.\n",
    "</p>\n",
    "<ul>\n",
    "    <li>Step 1.) Muliplication - Step one is to use multiplication to expand the range of numbers.</li>\n",
    "    <li>Step 2.) Addition - Step two is to use addition to shift the range of numbers.</li>\n",
    "    <li>Step 3.) Integer Casting - Step three is to type-cast the float to an integer to eliminate the decimal.</li>\n",
    "</ul>\n",
    "<img src=\"https://dcarroll242.github.io/Random%20Numbers.gif\" alt=\"description of gif\" style=\"width:50%;height:auto;margin:0px;\"/>\n"
   ]
  },
  {
   "cell_type": "code",
   "execution_count": 2,
   "metadata": {},
   "outputs": [
    {
     "name": "stdout",
     "output_type": "stream",
     "text": [
      "Random Number in Range [0, 9]: 3\n",
      "Random Number in Range [1, 10]: 4\n",
      "Random Number in Range [11, 25]: 23\n"
     ]
    }
   ],
   "source": [
    "# Here are some examples of creating random numbers within specific ranges using the random() function.\n",
    "# ^^^^^^^^^^^^^^^^^^^^^^^^^^^^^^^^^^^^^^^^^^^^^^^^^^^^^^^^^^^^^^^^^^^^^^^^^^^^^^^^^^^^^^^^^^^^^^^^^^^^^\n",
    "\n",
    "import random                                         # Import the Random Module (Library)\n",
    "\n",
    "\n",
    "randNum1 = int(random.random() * 10 + 0)              # Creates a random number in the range [0, 9]\n",
    "print(f\"Random Number in Range [0, 9]: {randNum1}\")\n",
    "\n",
    "randNum2 = int(random.random() * 10 + 1)              # Creates a random number in the range [1, 10]\n",
    "print(f\"Random Number in Range [1, 10]: {randNum2}\")\n",
    "\n",
    "randNum3 = int(random.random() * 15 + 11)             # Creates a random number in the range [11, 25]\n",
    "print(f\"Random Number in Range [11, 25]: {randNum3}\")\n"
   ]
  },
  {
   "cell_type": "markdown",
   "metadata": {},
   "source": [
    "<br>\n",
    "<a id=\"randrange\"></a>\n",
    "<h2>The randrange() Function</h2>\n",
    "<hr style=\"height:2px;border:none;color:#333;background-color:#333;\" />\n",
    "<p style=\"text-align:justify;\">\n",
    "    In Python, the <a href=\"https://www.w3schools.com/python/ref_random_randrange.asp\">randrange()</a> function performs all of the manual calculations necessary to create a random number, so you don't have to. Keep in mind that <i>start</i> is always included and <i>stop</i> is never included.\n",
    "</p>\n",
    "<table style=\"float:left;font-size:14px;text-align:left;\">\n",
    "  <tr style=\"background-color:#c5dfed;\">\n",
    "    <th style=\"font-size:14px;text-align:left;\">Function</th>\n",
    "    <th style=\"font-size:14px;text-align:left;\">Notes</th>\n",
    "  </tr>\n",
    "  <tr>\n",
    "    <td style=\"font-size:14px;text-align:left; font-family: Courier New, Courier, monospace;\">randrange(<i>stop</i>)</td>\n",
    "    <td style=\"font-size:14px;text-align:left;\">Returns a random integer number in the interval [0, <i>stop</i>).</td>\n",
    "  </tr>\n",
    "    <tr>\n",
    "    <td style=\"font-size:14px;text-align:left; font-family: Courier New, Courier, monospace;\">randrange(<i>start</i>, <i>stop</i>)</td>\n",
    "    <td style=\"font-size:14px;text-align:left;\">Returns a random integer number in the interval [<i>start</i>, <i>stop</i>).</td>\n",
    "  </tr>\n",
    "    <tr>\n",
    "    <td style=\"font-size:14px;text-align:left; font-family: Courier New, Courier, monospace;\">randrange(<i>start</i>, <i>stop</i>, <i>step</i>)</td>\n",
    "    <td style=\"font-size:14px;text-align:left;\">Returns a random integer number in the interval [<i>start</i>, <i>stop</i>), specifying the incrementation with <i>step</i>.</td>\n",
    "  </tr>\n",
    "</table>"
   ]
  },
  {
   "cell_type": "code",
   "execution_count": 3,
   "metadata": {},
   "outputs": [
    {
     "name": "stdout",
     "output_type": "stream",
     "text": [
      "Random Number in Range [0, 9]: 2\n",
      "Random Number in Range [1, 10]: 4\n",
      "Random Number in Range [11, 25]: 23\n"
     ]
    }
   ],
   "source": [
    "# Here are some examples of creating random numbers within specific ranges using the randrange() function.\n",
    "# ^^^^^^^^^^^^^^^^^^^^^^^^^^^^^^^^^^^^^^^^^^^^^^^^^^^^^^^^^^^^^^^^^^^^^^^^^^^^^^^^^^^^^^^^^^^^^^^^^^^^^^^^\n",
    "\n",
    "import random                                         # Import the Random Module (Library)\n",
    "\n",
    "\n",
    "randNum1 = random.randrange(10)                       # Creates a random number in the range [0, 9]\n",
    "print(f\"Random Number in Range [0, 9]: {randNum1}\")\n",
    "\n",
    "randNum2 = random.randrange(1, 11)                    # Creates a random number in the range [1, 10]\n",
    "print(f\"Random Number in Range [1, 10]: {randNum2}\")\n",
    "\n",
    "randNum3 = random.randrange(11, 26, 2)                # Creates a random number in the range [11, 25], odd numbers only!\n",
    "print(f\"Random Number in Range [11, 25]: {randNum3}\")"
   ]
  }
 ],
 "metadata": {
  "kernelspec": {
   "display_name": "Python 3",
   "language": "python",
   "name": "python3"
  },
  "language_info": {
   "codemirror_mode": {
    "name": "ipython",
    "version": 3
   },
   "file_extension": ".py",
   "mimetype": "text/x-python",
   "name": "python",
   "nbconvert_exporter": "python",
   "pygments_lexer": "ipython3",
   "version": "3.7.6"
  }
 },
 "nbformat": 4,
 "nbformat_minor": 4
}
